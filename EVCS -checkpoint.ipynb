import numpy as np
import matplotlib.pyplot as plt
import pandas as pd
import copy
import random
import time

class EVCSIndividual:

    '''
    individual of demand oriented method
    '''
    def __init__(self,data,ev_ct,ec_cp,ev_n):

        self.data=data #Candidate Data
        self.evcs=np.zeros(ev_n)  #Number of cars per charging station
        self.individual=[]
        self.fitness=[]
        self.ev_ct=ev_ct
        self.ev_cp=ec_cp
        self.ev_n=ev_n

    def GenerateIndividual(self):
        '''
        generate a random chromsome for genetic algorithm
        '''
        gene = list()    #Solution of the problem, genes, individuals in the population: [0,..., city_size]
        for i in range(len(self.data)):
            ind=random.choices(self.data[i])
            copy_ind=copy.deepcopy(ind[0])
            copy_ind.append(i)
            gene.append(copy_ind)
        random.shuffle(gene)
        self.individual=gene

    def calculateFitness(self,cd_n=5):
        '''
        calculate the fitness of the indiviual
        '''
        #distance = 0.0
        ev_n=np.zeros((self.ev_n,cd_n))  #The number of charging vehicles per electric pile per unit time
        cd_wt=np.zeros((self.ev_n,cd_n)) #Total working time of charging pile
        cd_st=np.zeros((self.ev_n,cd_n)) #Charging pile idle time
        st=0.   #Total idle time of electric pile 
        qt=0.   #Total tram queue time
        tt=0.   #Total charging time= Time to charging pile + queuing time + charging time 
        cost=0. #Total cost of charging
        n=[]  
        x_n=0
        for i in range(len(self.individual)): #len(self.indiviual)
            #cost+=self.individual[i][1]*self.ev_ct[i]
            cost+=self.individual[i][1]+self.ev_cp[self.individual[i][0]]*self.ev_ct[self.individual[i][2]]
            k=int(self.evcs[self.individual[i][0]]%cd_n)
            #print(k)
            self.evcs[self.individual[i][0]]+=1
            if cd_wt[self.individual[i][0]][k]<60:
                ev_n[self.individual[i][0]][k]+=1
            if self.individual[i][1]<cd_wt[self.individual[i][0]][k]:
                tt+=cd_wt[self.individual[i][0]][k]+self.ev_ct[self.individual[i][0]]
                qt+=cd_wt[self.individual[i][0]][k]-self.individual[i][1]
                #print("The EV of the %d queuing vehicle, vehicle number: %d, specific information: %s, station number: %d, queuing time required:%f" %(x_n,i,str(self.indiviual[i]),k,cd_wt[self.indiviual[i][0]][k]-self.indiviual[i][1]))
                cd_wt[self.individual[i][0]][k]=cd_wt[self.individual[i][0]][k]+self.ev_ct[self.individual[i][0]]
                x_n+=1
            else:
                tt+=self.individual[i][1]+self.ev_ct[self.individual[i][0]]
                st+=self.individual[i][1]-cd_wt[self.individual[i][0]][k]
                cd_st[self.individual[i][0]][k]+=self.individual[i][1]-cd_wt[self.individual[i][0]][k]
                cd_wt[self.individual[i][0]][k]=self.individual[i][1]+self.ev_ct[self.individual[i][0]]
        revnue=0.
        t_ev_n=0
        t_st_v=0
        for i in range(self.ev_n):
            for j in range(cd_n):
                revnue+=(cd_wt[i][j]-cd_st[i][j])*self.ev_cp[i]
                t_ev_n+=ev_n[i][j]
                t_st_v+=cd_st[i][j]
        
        n.append(revnue)      
        n.append(cost)        
        n.append(tt)          
        n.append(qt)          
        n.append(st)          
        n.append(t_ev_n)     
        self.fitness=np.array(n)

class GeneticAlgorithm:
    def __init__(self, t_c_l, ev_ct, ev_cp, n,c_rate=0.7, m_rate=0.3, pop_size=200, maxnum=200):
        self.pop_size = pop_size
        self.fitness = np.zeros(self.pop_size)
        self.c_rate = c_rate 
        self.m_rate = m_rate 
        self.maxiternum = maxnum
        self.population=[]
        self.bestfitness=0.   
        self.besttruefitness=[] 
        self.bestIndex=0
        self.bestgene=[]
        self.trace = np.zeros((self.maxiternum, 2))
        self.avefitness=0.
        self.data=t_c_l
        self.ev_ct=ev_ct
        self.ev_cp=ev_cp
        self.cs_n=n
        self.bestindividual=[]   
        self.dataset=[]
        self.matrix=np.zeros((len(t_c_l),self.cs_n))
    
    def initialize(self):
        '''
        initialize the population of GA
        '''
        for i in range(0, int(self.pop_size)):
            ind = EVCSIndividual(self.data,self.ev_ct,self.ev_cp,self.cs_n)
            ind.GenerateIndividual()
            self.population.append(ind)
        
    def evaluation(self):
        '''
        evaluation the fitness of the population
        '''
        for i in range(0, int(self.pop_size)):
            self.population[i].calculateFitness()
            self.fitness[i] = 0.3*(self.population[i].fitness[3]/40000)+0.4*(self.population[i].fitness[4]/3000)+0.3*(1-self.population[i].fitness[5]/899)
            
    def selection(self):
        self.dataset.append(self.population[self.bestIndex].individual)
        for i in range(self.pop_size):
            if i != self.bestIndex and self.fitness[i] > self.avefitness:
                pi = self.cross(self.population[self.bestIndex].individual, self.population[i].individual)
                self.population[i].individual= self.mutate(pi)
                self.population[i].individual= sorted(self.population[i].individual, key=(lambda x: [x[0],x[1]]))
                self.population[i].calculateFitness()
                self.fitness[i] = 0.3*(self.population[i].fitness[3]/40000)+0.4*(self.population[i].fitness[4]/3000)+0.3*(1-self.population[i].fitness[5]/899)

    
    def crossoverMutation(self):
         for j in range(self.pop_size):
                r = np.random.randint(0, self.pop_size - 1)
                if j != r:
                    nind = self.cross(self.population[j].individual, self.population[r].individual)    #The gene of the j, rth individual in the cross population
                    self.population[j].individual = self.mutate(nind)    #The gene of the jth individual in the mutant population
                    self.population[j].individual= sorted(self.population[j].individual, key=(lambda x: [x[0],x[1]]))
                    self.population[j].calculateFitness()
                    self.fitness[j] = 0.3*(self.population[j].fitness[3]/40000)+0.4*(self.population[j].fitness[4]/3000)+0.3*(1-self.population[j].fitness[5]/899)


    def cross(self, parent1, parent2):
        """Partial gene fragments that cross p1, p2"""
        if np.random.rand() > self.c_rate:
            return parent1
        index1 = np.random.randint(0, len(parent1) - 1)
        index2 = np.random.randint(index1,  len(parent1)- 1)
        tempGene = parent2[index1:index2]  # Crossover gene fragments
        tempGene_t = pd.DataFrame(tempGene,columns=["0","1","2"])
        tempGene_c = list(tempGene_t["2"])
        newGene = []
        p1len = 0
        for g in parent1:
            if p1len == index1:
                newGene.extend(tempGene)  # Insert gene fragment
            if g[2] not in tempGene_c:
                newGene.append(g)
            p1len += 1
        
        if len(newGene)!=len(parent1):
            ind = EVCSIndividual(self.data,self.ev_ct,self.ev_cp,self.cs_n)
            ind.GenerateIndividual()
            return ind.individual
        
        return newGene
    
    def mutate(self,gene):
        if np.random.rand() > self.m_rate:
            return gene
        index1 = np.random.randint(0, len(gene) - 1)
        index2 = np.random.randint(index1, len(gene) - 1)
        newGene = self.reverse_gen(gene, index1, index2)
        if len(newGene)!=len(gene):
            ind = EVCSIndividual(self.data,self.ev_ct,self.ev_cp,self.cs_n)
            ind.GenerateIndividual()
            return ind.individual
        return newGene
    
    def reverse_gen(self, gen, i, j):
        #Function: flip the gene segment between i and j in the gene
        if i >= j:
            return gen
        if j > len(gen) - 1:
            return gen
        parent1 = copy.deepcopy(gen)
        tempGene = parent1[i:j]
        parent1[i:j]=tempGene[::-1]
        return parent1
    
    def solve(self):
        self.t = 0
        self.initialize()
        self.evaluation()
        self.bestfitness = np.min(self.fitness)
        self.bestIndex = np.argmin(self.fitness)
        self.bestgene = copy.deepcopy(self.population[self.bestIndex])
        self.besttruefitness=self.population[self.bestIndex].fitness
        self.bestindividual=self.population[self.bestIndex].individual
        self.avefitness = np.mean(self.fitness)
        self.trace[self.t, 0] = self.fitness[self.bestIndex]
        self.trace[self.t, 1] = self.avefitness
        print("%d iterations: fitness value: %f, average fitness value: %f, optimal result:%s" % (
            self.t, self.trace[self.t, 0], self.trace[self.t, 1],str(self.bestgene.fitness)))

        while self.t < self.maxiternum - 125:
            self.t += 1
            self.selection()
            self.crossoverMutation()
            localbest = np.min(self.fitness)
            self.bestIndex = np.argmin(self.fitness)
            if localbest<self.bestfitness:
                self.bestfitness=localbest
                self.besttruefitness=self.population[self.bestIndex].fitness
                self.bestindividual=self.population[self.bestIndex].individual
            self.bestgene = copy.deepcopy(self.population[self.bestIndex])
            self.avefitness = np.mean(self.fitness)            
            self.trace[self.t, 0] = self.fitness[self.bestIndex]
            self.trace[self.t, 1] = self.avefitness
            print("%d iterations: fitness value: %f, average fitness value: %f, optimal result: %s" % (
                self.t, self.trace[self.t, 0], self.trace[self.t, 1],str(self.bestgene.fitness)))
            if self.t%25==0:
                self.population.clear()
                self.initialize()
                self.evaluation()        
        
        print("-----------------EDA------------------")    
        self.computematrix() 
        self.dataset.clear()
        while self.t < self.maxiternum -1:
            self.t += 1
            self.selectionEDA()
            self.computematrix()
            self.dataset.clear()
            self.crossoverMutation()
            localbest = np.min(self.fitness)
            if localbest<self.bestfitness:
                self.bestfitness=localbest
                self.besttruefitness=self.population[self.bestIndex].fitness
                self.bestindividual=self.population[self.bestIndex].individual
            self.bestIndex = np.argmin(self.fitness)
            self.bestgene = copy.deepcopy(self.population[self.bestIndex])
            self.avefitness = np.mean(self.fitness)
            self.trace[self.t, 0] = self.fitness[self.bestIndex]
            self.trace[self.t, 1] = self.avefitness
            print("%d iterations: fitness value: %f, average fitness value: %f, optimal result:%s" % (
                self.t, self.trace[self.t, 0], self.trace[self.t, 1],str(self.bestgene.fitness)))
        print("True Best Fitness:",self.besttruefitness)
        print("Best Fitness:",self.bestfitness)
        print("Average of queuing time (minute):",self.besttruefitness[3]/899)
        print("Average of idle time (minute):",self.besttruefitness[4]/170)
        print("Number of charged EV within an hour:",int(self.besttruefitness[5]))
        print("Total cost of all EV:",self.besttruefitness[1])
        print("Total revenue of EVCS:",self.besttruefitness[0]) 
        
def main():
    data = pd.read_csv("chargingstations.csv", delimiter=";", header=None).values 
    cities = data[:, 1:]
    cities_name = data[:, 0] 
    city_size = data.shape[0]
    locations = np.arange(cities.shape[0])   

    ev_data_1000= pd.read_csv('ev_data_1000.csv').values 
    ev_x=ev_data_1000[:, 1:2]
    ev_x=[j for i in ev_x for j in i]
    ev_y=ev_data_1000[:, 2:3]
    ev_y=[j for i in ev_y for j in i]
    ev_ld=ev_data_1000[:, 3:4]
    ev_ld=[j for i in ev_ld for j in i]
    ev_ct=ev_data_1000[:, 4:5]
    ev_ct=[j for i in ev_ct for j in i]
    ev_cp_34= pd.read_csv('ev_cp_34.csv').values 
    ev_cp=ev_cp_34[:,1:]
    ev_cp=[j for i in ev_cp for j in i]

    '''Candidate Station for Tram'''
    t_c_l=[] 
    for i in range(1000):
        c_l=[]
        for j in range(34):
            d=np.sqrt((ev_x[i] - cities[j][0]) ** 2 + (ev_y[i] - cities[j][1]) ** 2)
            #d=ct_distance(ev_x[i],ev_y[i],cities[j])
            if d<ev_ld[i]:
                c=[]
                c.append(int(j))      
                c.append(d)      
                c_l.append(c)
        t_c_l.append(c_l)        

    for i in range(len(t_c_l)-1,-1,-1):
        if t_c_l[i]==[]:
            del ev_x[i]
            del ev_y[i]
            del ev_ld[i]
            del ev_ct[i]
            del t_c_l[i]
    GA=GeneticAlgorithm(t_c_l,ev_ct,ev_cp,len(cities))
    GA.initialize()
    GA.solve()

if __name__ == '__main__':
    start=time.time()
    main()
    end=time.time()
    print("Time consuming:",end-start)  
